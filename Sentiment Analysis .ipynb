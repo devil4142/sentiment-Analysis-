{
 "cells": [
  {
   "cell_type": "markdown",
   "id": "d5e5b5dd-03ea-4c25-90ff-0b87ada534f7",
   "metadata": {},
   "source": [
    "# import the libraries"
   ]
  },
  {
   "cell_type": "code",
   "execution_count": 2,
   "id": "03e194de-022a-4d65-8e0f-052ed7be81d2",
   "metadata": {},
   "outputs": [
    {
     "name": "stderr",
     "output_type": "stream",
     "text": [
      "[nltk_data] Downloading package stopwords to\n",
      "[nltk_data]     C:\\Users\\AJAY\\AppData\\Roaming\\nltk_data...\n",
      "[nltk_data]   Package stopwords is already up-to-date!\n",
      "[nltk_data] Downloading package punkt to\n",
      "[nltk_data]     C:\\Users\\AJAY\\AppData\\Roaming\\nltk_data...\n",
      "[nltk_data]   Package punkt is already up-to-date!\n"
     ]
    }
   ],
   "source": [
    "import numpy as np \n",
    "import pandas as pd \n",
    "import os \n",
    "import re \n",
    "import nltk \n",
    "nltk.download('stopwords') \n",
    "nltk.download('punkt') \n",
    "from nltk.corpus import stopwords \n",
    "STOPWORDS = set(stopwords.words('english')) \n",
    "import matplotlib.pyplot as plt \n",
    "from sklearn.feature_extraction.text import CountVectorizer, TfidfVectorizer \n",
    "from sklearn.model_selection import train_test_split \n",
    "from sklearn.ensemble import RandomForestClassifier \n",
    "from sklearn.linear_model import LogisticRegression \n",
    "from sklearn.svm import LinearSVC\n",
    "from sklearn.naive_bayes import MultinomialNB \n",
    "from sklearn.metrics import classification_report, confusion_matrix, accuracy_score"
   ]
  },
  {
   "cell_type": "markdown",
   "id": "34ca6989-c8c5-4a4c-b8fa-aee4b3c04a4e",
   "metadata": {},
   "source": [
    "# Loading Data"
   ]
  },
  {
   "cell_type": "code",
   "execution_count": 3,
   "id": "b7e86df9-77ab-4821-b7d7-2a2ca9fb29ac",
   "metadata": {},
   "outputs": [],
   "source": [
    "input_data = pd.read_csv('Tweets.csv')\n",
    "input_data = input_data[['label','tweet']]"
   ]
  },
  {
   "cell_type": "code",
   "execution_count": 4,
   "id": "81826347-7f54-4b81-a09d-775be4e55b3e",
   "metadata": {},
   "outputs": [
    {
     "data": {
      "text/html": [
       "<div>\n",
       "<style scoped>\n",
       "    .dataframe tbody tr th:only-of-type {\n",
       "        vertical-align: middle;\n",
       "    }\n",
       "\n",
       "    .dataframe tbody tr th {\n",
       "        vertical-align: top;\n",
       "    }\n",
       "\n",
       "    .dataframe thead th {\n",
       "        text-align: right;\n",
       "    }\n",
       "</style>\n",
       "<table border=\"1\" class=\"dataframe\">\n",
       "  <thead>\n",
       "    <tr style=\"text-align: right;\">\n",
       "      <th></th>\n",
       "      <th>label</th>\n",
       "      <th>tweet</th>\n",
       "    </tr>\n",
       "  </thead>\n",
       "  <tbody>\n",
       "    <tr>\n",
       "      <th>0</th>\n",
       "      <td>positive</td>\n",
       "      <td>@VirginAmerica nervous about my flight from DC...</td>\n",
       "    </tr>\n",
       "    <tr>\n",
       "      <th>1</th>\n",
       "      <td>positive</td>\n",
       "      <td>@VirginAmerica cool picture of another VirginA...</td>\n",
       "    </tr>\n",
       "    <tr>\n",
       "      <th>2</th>\n",
       "      <td>positive</td>\n",
       "      <td>@VirginAmerica Keep up the great work :)</td>\n",
       "    </tr>\n",
       "    <tr>\n",
       "      <th>3</th>\n",
       "      <td>positive</td>\n",
       "      <td>@VirginAmerica my goodness your people @love f...</td>\n",
       "    </tr>\n",
       "    <tr>\n",
       "      <th>4</th>\n",
       "      <td>positive</td>\n",
       "      <td>@VirginAmerica Thanks for a great flight from ...</td>\n",
       "    </tr>\n",
       "  </tbody>\n",
       "</table>\n",
       "</div>"
      ],
      "text/plain": [
       "      label                                              tweet\n",
       "0  positive  @VirginAmerica nervous about my flight from DC...\n",
       "1  positive  @VirginAmerica cool picture of another VirginA...\n",
       "2  positive           @VirginAmerica Keep up the great work :)\n",
       "3  positive  @VirginAmerica my goodness your people @love f...\n",
       "4  positive  @VirginAmerica Thanks for a great flight from ..."
      ]
     },
     "execution_count": 4,
     "metadata": {},
     "output_type": "execute_result"
    }
   ],
   "source": [
    "input_data.head()"
   ]
  },
  {
   "cell_type": "code",
   "execution_count": 5,
   "id": "feea187a-d767-44b0-8ae6-07b480ee6e24",
   "metadata": {},
   "outputs": [
    {
     "data": {
      "text/plain": [
       "(14438, 2)"
      ]
     },
     "execution_count": 5,
     "metadata": {},
     "output_type": "execute_result"
    }
   ],
   "source": [
    "input_data.shape"
   ]
  },
  {
   "cell_type": "code",
   "execution_count": 6,
   "id": "e67593cd-9349-41d7-9d54-9e4af8402472",
   "metadata": {},
   "outputs": [
    {
     "data": {
      "image/png": "[encoded data removed]",
      "text/plain": [
       "<Figure size 1000x500 with 1 Axes>"
      ]
     },
     "metadata": {},
     "output_type": "display_data"
    }
   ],
   "source": [
    "label_dist = input_data['label'].value_counts().to_dict()\n",
    "flg = plt.figure(figsize = (10,5))\n",
    "ax = plt.bar(label_dist.keys(), label_dist.values(), width=0.25) \n",
    "plt.xticks([0,1,2]) \n",
    "plt.xlabel('snetiment') \n",
    "plt.ylabel('Tweet count') \n",
    "plt.show()"
   ]
  },
  {
   "cell_type": "code",
   "execution_count": 7,
   "id": "864dd5e8-9b3a-442f-95ac-29dddf0b3758",
   "metadata": {},
   "outputs": [
    {
     "data": {
      "text/plain": [
       "212"
      ]
     },
     "execution_count": 7,
     "metadata": {},
     "output_type": "execute_result"
    }
   ],
   "source": [
    "#check for any dupicates tweets \n",
    "\n",
    "len(input_data['tweet'])-len(input_data['tweet'].drop_duplicates()) "
   ]
  },
  {
   "cell_type": "code",
   "execution_count": 8,
   "id": "ac1d7025-8fd0-49ab-97f3-b2904f0bf073",
   "metadata": {},
   "outputs": [
    {
     "data": {
      "text/plain": [
       "(14226, 2)"
      ]
     },
     "execution_count": 8,
     "metadata": {},
     "output_type": "execute_result"
    }
   ],
   "source": [
    "input_data = input_data.drop_duplicates(subset='tweet', keep='last')\n",
    "input_data.shape"
   ]
  },
  {
   "cell_type": "code",
   "execution_count": 12,
   "id": "6ec969a9-b03e-4b53-b5ed-34fdb3bf57a8",
   "metadata": {},
   "outputs": [],
   "source": [
    "input_data['length'] = input_data['tweet'].apply(lambda x: len(x.split(' '))) "
   ]
  },
  {
   "cell_type": "code",
   "execution_count": 13,
   "id": "95990483-1823-4ee9-a56c-92bdb9c747bf",
   "metadata": {},
   "outputs": [
    {
     "data": {
      "text/html": [
       "<div>\n",
       "<style scoped>\n",
       "    .dataframe tbody tr th:only-of-type {\n",
       "        vertical-align: middle;\n",
       "    }\n",
       "\n",
       "    .dataframe tbody tr th {\n",
       "        vertical-align: top;\n",
       "    }\n",
       "\n",
       "    .dataframe thead th {\n",
       "        text-align: right;\n",
       "    }\n",
       "</style>\n",
       "<table border=\"1\" class=\"dataframe\">\n",
       "  <thead>\n",
       "    <tr style=\"text-align: right;\">\n",
       "      <th></th>\n",
       "      <th>label</th>\n",
       "      <th>tweet</th>\n",
       "      <th>length</th>\n",
       "    </tr>\n",
       "  </thead>\n",
       "  <tbody>\n",
       "    <tr>\n",
       "      <th>5629</th>\n",
       "      <td>positive</td>\n",
       "      <td>@SouthwestAir can you please DM me? I have a q...</td>\n",
       "      <td>13</td>\n",
       "    </tr>\n",
       "    <tr>\n",
       "      <th>6859</th>\n",
       "      <td>positive</td>\n",
       "      <td>@JetBlue when I check in tomorrow morning for ...</td>\n",
       "      <td>19</td>\n",
       "    </tr>\n",
       "    <tr>\n",
       "      <th>8575</th>\n",
       "      <td>negative</td>\n",
       "      <td>@JetBlue even @Citi responded quicker via Twit...</td>\n",
       "      <td>21</td>\n",
       "    </tr>\n",
       "    <tr>\n",
       "      <th>4144</th>\n",
       "      <td>negative</td>\n",
       "      <td>@SouthwestAir Logically you would think you ch...</td>\n",
       "      <td>24</td>\n",
       "    </tr>\n",
       "    <tr>\n",
       "      <th>12233</th>\n",
       "      <td>negative</td>\n",
       "      <td>@AmericanAir especially during a death in the ...</td>\n",
       "      <td>16</td>\n",
       "    </tr>\n",
       "    <tr>\n",
       "      <th>2516</th>\n",
       "      <td>negative</td>\n",
       "      <td>@united &amp;amp; on top of no free tv on the int’...</td>\n",
       "      <td>30</td>\n",
       "    </tr>\n",
       "    <tr>\n",
       "      <th>2116</th>\n",
       "      <td>negative</td>\n",
       "      <td>@united sloppy stuff you don't see anymore - u...</td>\n",
       "      <td>18</td>\n",
       "    </tr>\n",
       "    <tr>\n",
       "      <th>13323</th>\n",
       "      <td>positive</td>\n",
       "      <td>@AmericanAir Karen Riedel is a rock star emplo...</td>\n",
       "      <td>20</td>\n",
       "    </tr>\n",
       "    <tr>\n",
       "      <th>3988</th>\n",
       "      <td>positive</td>\n",
       "      <td>@united Hi again, any updates here?</td>\n",
       "      <td>6</td>\n",
       "    </tr>\n",
       "    <tr>\n",
       "      <th>6821</th>\n",
       "      <td>positive</td>\n",
       "      <td>😂😂 RT @JetBlue: Our fleet's on fleek. http://t...</td>\n",
       "      <td>8</td>\n",
       "    </tr>\n",
       "  </tbody>\n",
       "</table>\n",
       "</div>"
      ],
      "text/plain": [
       "          label                                              tweet  length\n",
       "5629   positive  @SouthwestAir can you please DM me? I have a q...      13\n",
       "6859   positive  @JetBlue when I check in tomorrow morning for ...      19\n",
       "8575   negative  @JetBlue even @Citi responded quicker via Twit...      21\n",
       "4144   negative  @SouthwestAir Logically you would think you ch...      24\n",
       "12233  negative  @AmericanAir especially during a death in the ...      16\n",
       "2516   negative  @united &amp; on top of no free tv on the int’...      30\n",
       "2116   negative  @united sloppy stuff you don't see anymore - u...      18\n",
       "13323  positive  @AmericanAir Karen Riedel is a rock star emplo...      20\n",
       "3988   positive                @united Hi again, any updates here?       6\n",
       "6821   positive  😂😂 RT @JetBlue: Our fleet's on fleek. http://t...       8"
      ]
     },
     "execution_count": 13,
     "metadata": {},
     "output_type": "execute_result"
    }
   ],
   "source": [
    "input_data.sample(10)"
   ]
  },
  {
   "cell_type": "code",
   "execution_count": 15,
   "id": "8fb5155c-9707-4ba4-ae4a-040f35ea5ec7",
   "metadata": {},
   "outputs": [
    {
     "name": "stdout",
     "output_type": "stream",
     "text": [
      "20\n",
      "14\n"
     ]
    }
   ],
   "source": [
    "#cal avg length of the positive and nagative tweet \n",
    "\n",
    "print(round(input_data[input_data['label']=='negative']['length'].mean()))\n",
    "print(round(input_data[input_data['label']=='positive']['length'].mean()))"
   ]
  },
  {
   "cell_type": "code",
   "execution_count": 18,
   "id": "fd3570ea-c846-4f19-a28f-cf624daf9f01",
   "metadata": {},
   "outputs": [
    {
     "data": {
      "text/plain": [
       "<Axes: ylabel='Frequency'>"
      ]
     },
     "execution_count": 18,
     "metadata": {},
     "output_type": "execute_result"
    },
    {
     "data": {
      "image/png": "[encoded data removed]",
      "text/plain": [
       "<Figure size 640x480 with 1 Axes>"
      ]
     },
     "metadata": {},
     "output_type": "display_data"
    }
   ],
   "source": [
    "# plot the distrubution based on the length of the twwets for each label \n",
    "\n",
    "input_data[input_data['label']=='negative']['length'].plot.hist(bins=10)\n",
    "input_data[input_data['label']=='positive']['length'].plot.hist(bins=10)\n"
   ]
  },
  {
   "cell_type": "code",
   "execution_count": 19,
   "id": "7bb67924-ad4f-45f9-97ea-57c1553dc5ef",
   "metadata": {},
   "outputs": [],
   "source": [
    "input_data['tweet_new'] = input_data['tweet'].apply(lambda x: ' '.join([word for word in x.split() if word not in (STOPWORDS)])) "
   ]
  },
  {
   "cell_type": "code",
   "execution_count": 20,
   "id": "c52072f8-ed9f-4265-a19b-d2e4deeec504",
   "metadata": {},
   "outputs": [],
   "source": [
    "def text_clean(tweet):\n",
    "    #lowercase the tweet\n",
    "    tweet=tweet.lower()\n",
    "    #remove punctuation \n",
    "    tweet = re.sub('[()!?]', ' ', tweet)\n",
    "    tweet = re.sub('\\[.*?\\]',' ', tweet)\n",
    "    #remove non alphanumeric occurences\n",
    "    tweet = re.sub(\"[^a-z0-9]\",\" \", tweet)\n",
    "    #remove the @mention\n",
    "    tweet = re.sub(\"@[A-Za-z0-9_]+\",\"\", tweet)\n",
    "    #remove the hastags\n",
    "    tweet = re.sub(\"#[A-Za-z0-9_]+\",\"\", tweet)\n",
    "    #remove any links \n",
    "    tweet = re.sub(r\"http\\S+\", \"\", tweet)\n",
    "    tweet = re.sub(r\"www.\\S+\", \"\", tweet)\n",
    "    return tweet"
   ]
  },
  {
   "cell_type": "code",
   "execution_count": 21,
   "id": "d7738c42-45d3-4fc9-afc8-22eddfb302a7",
   "metadata": {},
   "outputs": [],
   "source": [
    "#apply the function on the tweet column \n",
    "\n",
    "input_data['clean_tweet'] = input_data['tweet_new'].apply(text_clean) "
   ]
  },
  {
   "cell_type": "code",
   "execution_count": 23,
   "id": "ce215b2d-8863-4e8f-93ca-bbe8bc0fc939",
   "metadata": {},
   "outputs": [
    {
     "data": {
      "text/html": [
       "<div>\n",
       "<style scoped>\n",
       "    .dataframe tbody tr th:only-of-type {\n",
       "        vertical-align: middle;\n",
       "    }\n",
       "\n",
       "    .dataframe tbody tr th {\n",
       "        vertical-align: top;\n",
       "    }\n",
       "\n",
       "    .dataframe thead th {\n",
       "        text-align: right;\n",
       "    }\n",
       "</style>\n",
       "<table border=\"1\" class=\"dataframe\">\n",
       "  <thead>\n",
       "    <tr style=\"text-align: right;\">\n",
       "      <th></th>\n",
       "      <th>tweet</th>\n",
       "      <th>clean_tweet</th>\n",
       "    </tr>\n",
       "  </thead>\n",
       "  <tbody>\n",
       "    <tr>\n",
       "      <th>10565</th>\n",
       "      <td>Is it insulting that @USAirways @AmericanAir o...</td>\n",
       "      <td>is insulting  usairways  americanair offer  no...</td>\n",
       "    </tr>\n",
       "    <tr>\n",
       "      <th>3728</th>\n",
       "      <td>@united Stop pretending you care about the wel...</td>\n",
       "      <td>united stop pretending care welfare daughter ...</td>\n",
       "    </tr>\n",
       "    <tr>\n",
       "      <th>12557</th>\n",
       "      <td>@AmericanAir 3611 was supposed to depart at 5:...</td>\n",
       "      <td>americanair 3611 supposed depart 5 10pm centr...</td>\n",
       "    </tr>\n",
       "    <tr>\n",
       "      <th>1486</th>\n",
       "      <td>@united I'd rather spend two days in the back ...</td>\n",
       "      <td>united i d rather spend two days back seat vo...</td>\n",
       "    </tr>\n",
       "    <tr>\n",
       "      <th>198</th>\n",
       "      <td>.@VirginAmerica If only you guys were starting...</td>\n",
       "      <td>virginamerica if guys starting flights end m...</td>\n",
       "    </tr>\n",
       "    <tr>\n",
       "      <th>916</th>\n",
       "      <td>@united there are a lot of unhappy cold people...</td>\n",
       "      <td>united lot unhappy cold people bridge freezin...</td>\n",
       "    </tr>\n",
       "    <tr>\n",
       "      <th>9599</th>\n",
       "      <td>@USAirways @AmericanAir Thank you for a couple...</td>\n",
       "      <td>usairways  americanair thank couple easy  has...</td>\n",
       "    </tr>\n",
       "    <tr>\n",
       "      <th>6196</th>\n",
       "      <td>@SouthwestAir I did ....it's just been such a ...</td>\n",
       "      <td>southwestair i     it s disheartening experie...</td>\n",
       "    </tr>\n",
       "    <tr>\n",
       "      <th>10862</th>\n",
       "      <td>@USAirways @AmericanAir Total lack of cust. se...</td>\n",
       "      <td>usairways  americanair total lack cust  servi...</td>\n",
       "    </tr>\n",
       "    <tr>\n",
       "      <th>12064</th>\n",
       "      <td>@AmericanAir fly my child</td>\n",
       "      <td>americanair fly child</td>\n",
       "    </tr>\n",
       "  </tbody>\n",
       "</table>\n",
       "</div>"
      ],
      "text/plain": [
       "                                                   tweet  \\\n",
       "10565  Is it insulting that @USAirways @AmericanAir o...   \n",
       "3728   @united Stop pretending you care about the wel...   \n",
       "12557  @AmericanAir 3611 was supposed to depart at 5:...   \n",
       "1486   @united I'd rather spend two days in the back ...   \n",
       "198    .@VirginAmerica If only you guys were starting...   \n",
       "916    @united there are a lot of unhappy cold people...   \n",
       "9599   @USAirways @AmericanAir Thank you for a couple...   \n",
       "6196   @SouthwestAir I did ....it's just been such a ...   \n",
       "10862  @USAirways @AmericanAir Total lack of cust. se...   \n",
       "12064                          @AmericanAir fly my child   \n",
       "\n",
       "                                             clean_tweet  \n",
       "10565  is insulting  usairways  americanair offer  no...  \n",
       "3728    united stop pretending care welfare daughter ...  \n",
       "12557   americanair 3611 supposed depart 5 10pm centr...  \n",
       "1486    united i d rather spend two days back seat vo...  \n",
       "198      virginamerica if guys starting flights end m...  \n",
       "916     united lot unhappy cold people bridge freezin...  \n",
       "9599    usairways  americanair thank couple easy  has...  \n",
       "6196    southwestair i     it s disheartening experie...  \n",
       "10862   usairways  americanair total lack cust  servi...  \n",
       "12064                              americanair fly child  "
      ]
     },
     "execution_count": 23,
     "metadata": {},
     "output_type": "execute_result"
    }
   ],
   "source": [
    "input_data[['tweet', 'clean_tweet']].sample(10)"
   ]
  },
  {
   "cell_type": "code",
   "execution_count": 24,
   "id": "b3e06d18-8d3a-4cef-ac64-398c68401586",
   "metadata": {},
   "outputs": [],
   "source": [
    "#calulated h updated length after removing the stopwords and cleaning tweets \n",
    "input_data['new_length'] = input_data['clean_tweet'].apply(lambda x:len(x.split(\" \")))"
   ]
  },
  {
   "cell_type": "code",
   "execution_count": 25,
   "id": "065553ae-7812-4681-9ec6-0bb618a1e8fd",
   "metadata": {},
   "outputs": [
    {
     "name": "stdout",
     "output_type": "stream",
     "text": [
      "18\n",
      "15\n"
     ]
    }
   ],
   "source": [
    "#avg length of the tweet for positive and negtive labels \n",
    "\n",
    "print(round(input_data[input_data['label'] == 'negative']['new_length'].mean())) \n",
    "print(round(input_data[input_data['label'] == 'positive']['new_length'].mean()))"
   ]
  },
  {
   "cell_type": "code",
   "execution_count": 27,
   "id": "924662d9-ce20-4123-9f51-84ee0469f653",
   "metadata": {},
   "outputs": [
    {
     "data": {
      "text/plain": [
       "<Axes: ylabel='Frequency'>"
      ]
     },
     "execution_count": 27,
     "metadata": {},
     "output_type": "execute_result"
    },
    {
     "data": {
      "image/png": "[encoded data removed]",
      "text/plain": [
       "<Figure size 640x480 with 1 Axes>"
      ]
     },
     "metadata": {},
     "output_type": "display_data"
    }
   ],
   "source": [
    "#plot the distribution for negative and postive labe tweets \n",
    "input_data[input_data['label']=='negative']['new_length'].plot.hist(bins=10)\n",
    "input_data[input_data['label']=='positive']['new_length'].plot.hist(bins=10)\n"
   ]
  },
  {
   "cell_type": "code",
   "execution_count": 28,
   "id": "ac375762-d568-4706-aa0c-5ccefe1b6b18",
   "metadata": {},
   "outputs": [],
   "source": [
    "#frequency count\n",
    "top_words = 20\n",
    "#tokenize the tweets into individual tokens\n",
    "words = nltk.tokenize.word_tokenize(input_data['clean_tweet'].str.cat(sep=' '))\n",
    "#list of redundant words to be not considered in the frequency count\n",
    "dropwords=['to','i','the','a','you','for','on','and','t','is','in','it','of','me','my','that','can','have','not','s',\n",
    "          'co','http','are','was','with','at','your','this','we','be','2','get','from','an','do','so','up','m']\n",
    "filter_words = [word for word in words if word not in dropwords]"
   ]
  },
  {
   "cell_type": "code",
   "execution_count": 29,
   "id": "6b63865f-c82b-440f-85f6-3277276270f2",
   "metadata": {},
   "outputs": [],
   "source": [
    "#Use the FreqDist function from nltk for freq count\n",
    "word_freq = nltk.FreqDist(filter_words)\n",
    "#create the dataframe for top occuring words\n",
    "wordfreq_df = pd.DataFrame(word_freq.most_common(top_words),\n",
    "                    columns=['Word', 'Frequency'])"
   ]
  },
  {
   "cell_type": "code",
   "execution_count": 30,
   "id": "83c6bd25-ff44-47b7-8f88-a65981ad70a5",
   "metadata": {},
   "outputs": [
    {
     "name": "stdout",
     "output_type": "stream",
     "text": [
      "            Word  Frequency\n",
      "0         united       4146\n",
      "1         flight       3829\n",
      "2      usairways       3038\n",
      "3    americanair       2798\n",
      "4   southwestair       2447\n",
      "5        jetblue       2382\n",
      "6         thanks       1035\n",
      "7      cancelled       1031\n",
      "8        service        948\n",
      "9           help        856\n",
      "10          time        773\n",
      "11      customer        741\n",
      "12           amp        667\n",
      "13         hours        664\n",
      "14            us        662\n",
      "15          hold        636\n",
      "16         plane        630\n",
      "17       flights        630\n",
      "18         still        576\n",
      "19         thank        571\n"
     ]
    }
   ],
   "source": [
    "#print the dataframe\n",
    "print(wordfreq_df)"
   ]
  },
  {
   "cell_type": "markdown",
   "id": "aec829f6-c05d-488b-947a-d521710f023a",
   "metadata": {},
   "source": [
    "# Data Split"
   ]
  },
  {
   "cell_type": "code",
   "execution_count": 31,
   "id": "ec65d911-1e0b-463a-9ba3-6873096660da",
   "metadata": {},
   "outputs": [],
   "source": [
    "#Sentiment Classifier\n",
    "#split the data into training and test set with balanced split based on target class\n",
    "X_train, X_test, y_train, y_test = train_test_split(input_data[\"clean_tweet\"],\n",
    "                                                    input_data[\"label\"],test_size=0.3,\n",
    "                                                    stratify=input_data['label'])"
   ]
  },
  {
   "cell_type": "code",
   "execution_count": 33,
   "id": "a472504e-504f-4e8e-9a22-e51c6d3386b0",
   "metadata": {},
   "outputs": [
    {
     "name": "stdout",
     "output_type": "stream",
     "text": [
      "9958 4268\n"
     ]
    }
   ],
   "source": [
    "print(X_train.shape[0],X_test.shape[0])"
   ]
  },
  {
   "cell_type": "code",
   "execution_count": 34,
   "id": "740c784d-51df-45b2-9cc7-c3419568fb52",
   "metadata": {},
   "outputs": [
    {
     "name": "stdout",
     "output_type": "stream",
     "text": [
      "label\n",
      "negative    6301\n",
      "positive    3657\n",
      "Name: count, dtype: int64\n"
     ]
    }
   ],
   "source": [
    "print(y_train.value_counts())"
   ]
  },
  {
   "cell_type": "code",
   "execution_count": 35,
   "id": "0909be64-6dc9-47be-8806-e64d2775b944",
   "metadata": {},
   "outputs": [
    {
     "name": "stdout",
     "output_type": "stream",
     "text": [
      "label\n",
      "negative    2701\n",
      "positive    1567\n",
      "Name: count, dtype: int64\n"
     ]
    }
   ],
   "source": [
    "#check the target class balance in test data \n",
    "print(y_test.value_counts())"
   ]
  },
  {
   "cell_type": "markdown",
   "id": "8c2d302f-b821-4245-a3c6-5898bc6885ab",
   "metadata": {},
   "source": [
    "# ML Modeling and Performance Evalution"
   ]
  },
  {
   "cell_type": "code",
   "execution_count": 36,
   "id": "6e0bba4f-5a37-4c39-a715-19e7da1b6e46",
   "metadata": {},
   "outputs": [],
   "source": [
    "# Use the countvectoriser to convert text data into numerical/vector form\n",
    "vectorizer = CountVectorizer(token_pattern=r'\\b\\w+\\b')\n",
    "X_train_vec = vectorizer.fit_transform(X_train)\n",
    "X_test_vec = vectorizer.transform(X_test)"
   ]
  },
  {
   "cell_type": "code",
   "execution_count": 37,
   "id": "56b023a1-73aa-4b16-ada7-5532442d2f85",
   "metadata": {},
   "outputs": [
    {
     "name": "stdout",
     "output_type": "stream",
     "text": [
      "[[2360  372]\n",
      " [ 341 1195]]\n",
      "              precision    recall  f1-score   support\n",
      "\n",
      "    negative       0.87      0.86      0.87      2732\n",
      "    positive       0.76      0.78      0.77      1536\n",
      "\n",
      "    accuracy                           0.83      4268\n",
      "   macro avg       0.82      0.82      0.82      4268\n",
      "weighted avg       0.83      0.83      0.83      4268\n",
      "\n"
     ]
    }
   ],
   "source": [
    "# train using Logistic Regression Model \n",
    "lr = LogisticRegression()\n",
    "lr.fit(X_train_vec,y_train)\n",
    "print(confusion_matrix(lr.predict(X_test_vec),y_test))\n",
    "print(classification_report(lr.predict(X_test_vec),y_test))"
   ]
  },
  {
   "cell_type": "code",
   "execution_count": 38,
   "id": "c9018588-eb4b-44a6-9e70-3721efede66b",
   "metadata": {},
   "outputs": [
    {
     "name": "stdout",
     "output_type": "stream",
     "text": [
      "[[2496  572]\n",
      " [ 205  995]]\n",
      "              precision    recall  f1-score   support\n",
      "\n",
      "    negative       0.92      0.81      0.87      3068\n",
      "    positive       0.63      0.83      0.72      1200\n",
      "\n",
      "    accuracy                           0.82      4268\n",
      "   macro avg       0.78      0.82      0.79      4268\n",
      "weighted avg       0.84      0.82      0.82      4268\n",
      "\n"
     ]
    }
   ],
   "source": [
    "#train and evaluate the multinominal Naive Baysian Classifier model \n",
    "MNB = MultinomialNB()\n",
    "MNB.fit(X_train_vec,y_train)\n",
    "print(confusion_matrix(MNB.predict(X_test_vec),y_test))\n",
    "print(classification_report(MNB.predict(X_test_vec),y_test))"
   ]
  },
  {
   "cell_type": "code",
   "execution_count": 39,
   "id": "7081b3c4-3459-4b54-ac68-f64c5feee385",
   "metadata": {},
   "outputs": [
    {
     "name": "stdout",
     "output_type": "stream",
     "text": [
      "[[2378  468]\n",
      " [ 323 1099]]\n",
      "              precision    recall  f1-score   support\n",
      "\n",
      "    negative       0.88      0.84      0.86      2846\n",
      "    positive       0.70      0.77      0.74      1422\n",
      "\n",
      "    accuracy                           0.81      4268\n",
      "   macro avg       0.79      0.80      0.80      4268\n",
      "weighted avg       0.82      0.81      0.82      4268\n",
      "\n"
     ]
    }
   ],
   "source": [
    "#train and evaluate the RF classifier model\n",
    "rf = RandomForestClassifier(n_estimators=100)\n",
    "rf.fit(X_train_vec,y_train)\n",
    "print(confusion_matrix(rf.predict(X_test_vec),y_test))\n",
    "print(classification_report(rf.predict(X_test_vec),y_test))"
   ]
  },
  {
   "cell_type": "code",
   "execution_count": 40,
   "id": "e3a46444-33ce-4fcb-995e-3a6da0316d06",
   "metadata": {},
   "outputs": [
    {
     "name": "stdout",
     "output_type": "stream",
     "text": [
      "[[2469  493]\n",
      " [ 232 1074]]\n",
      "              precision    recall  f1-score   support\n",
      "\n",
      "    negative       0.91      0.83      0.87      2962\n",
      "    positive       0.69      0.82      0.75      1306\n",
      "\n",
      "    accuracy                           0.83      4268\n",
      "   macro avg       0.80      0.83      0.81      4268\n",
      "weighted avg       0.84      0.83      0.83      4268\n",
      "\n"
     ]
    }
   ],
   "source": [
    "# Use TF-IDF and train logistic regression\n",
    "vectorizertfidf = TfidfVectorizer(use_idf=True)\n",
    "X_train_tfvec = vectorizertfidf.fit_transform(X_train)\n",
    "X_test_tfvec = vectorizertfidf.transform(X_test)\n",
    "lr = LogisticRegression()\n",
    "lr.fit(X_train_tfvec,y_train)\n",
    "#evaluate the performance of logistic model on test data \n",
    "print(confusion_matrix(lr.predict(X_test_tfvec),y_test))\n",
    "print(classification_report(lr.predict(X_test_tfvec),y_test))"
   ]
  },
  {
   "cell_type": "code",
   "execution_count": 41,
   "id": "c8599b23-5129-44a4-bc98-4b4858a42663",
   "metadata": {},
   "outputs": [
    {
     "name": "stdout",
     "output_type": "stream",
     "text": [
      "[[2461  548]\n",
      " [ 240 1019]]\n",
      "              precision    recall  f1-score   support\n",
      "\n",
      "    negative       0.91      0.82      0.86      3009\n",
      "    positive       0.65      0.81      0.72      1259\n",
      "\n",
      "    accuracy                           0.82      4268\n",
      "   macro avg       0.78      0.81      0.79      4268\n",
      "weighted avg       0.83      0.82      0.82      4268\n",
      "\n"
     ]
    }
   ],
   "source": [
    "#train and evaluate the RF classifier model\n",
    "rf = RandomForestClassifier(n_estimators=200, random_state=0)\n",
    "rf.fit(X_train_tfvec,y_train)\n",
    "print(confusion_matrix(rf.predict(X_test_tfvec),y_test))\n",
    "print(classification_report(rf.predict(X_test_tfvec),y_test))"
   ]
  },
  {
   "cell_type": "code",
   "execution_count": 42,
   "id": "30734ddf-cd43-4ca2-bf8e-ae9a9147eb1c",
   "metadata": {},
   "outputs": [
    {
     "name": "stdout",
     "output_type": "stream",
     "text": [
      "[[2656  925]\n",
      " [  45  642]]\n",
      "              precision    recall  f1-score   support\n",
      "\n",
      "    negative       0.98      0.74      0.85      3581\n",
      "    positive       0.41      0.93      0.57       687\n",
      "\n",
      "    accuracy                           0.77      4268\n",
      "   macro avg       0.70      0.84      0.71      4268\n",
      "weighted avg       0.89      0.77      0.80      4268\n",
      "\n"
     ]
    }
   ],
   "source": [
    "#train and evaluate the multinominal Naive Baysian Classifier model \n",
    "MNB =  MultinomialNB()\n",
    "MNB.fit(X_train_tfvec,y_train)\n",
    "print(confusion_matrix(MNB.predict(X_test_tfvec),y_test))\n",
    "print(classification_report(MNB.predict(X_test_tfvec),y_test))"
   ]
  },
  {
   "cell_type": "code",
   "execution_count": 43,
   "id": "39a7184e-c165-45d4-832e-61e201c9adea",
   "metadata": {},
   "outputs": [
    {
     "name": "stderr",
     "output_type": "stream",
     "text": [
      "C:\\Users\\AJAY\\anaconda3\\Lib\\site-packages\\sklearn\\svm\\_classes.py:31: FutureWarning: The default value of `dual` will change from `True` to `'auto'` in 1.5. Set the value of `dual` explicitly to suppress the warning.\n",
      "  warnings.warn(\n"
     ]
    },
    {
     "name": "stdout",
     "output_type": "stream",
     "text": [
      "[[2378  400]\n",
      " [ 323 1167]]\n",
      "              precision    recall  f1-score   support\n",
      "\n",
      "    negative       0.88      0.86      0.87      2778\n",
      "    positive       0.74      0.78      0.76      1490\n",
      "\n",
      "    accuracy                           0.83      4268\n",
      "   macro avg       0.81      0.82      0.82      4268\n",
      "weighted avg       0.83      0.83      0.83      4268\n",
      "\n"
     ]
    }
   ],
   "source": [
    "#train and evaluate the Linear Support Vector Classifier model \n",
    "SVC = LinearSVC()\n",
    "SVC.fit(X_train_tfvec,y_train)\n",
    "print(confusion_matrix(SVC.predict(X_test_tfvec),y_test))\n",
    "print(classification_report(SVC.predict(X_test_tfvec),y_test))"
   ]
  },
  {
   "cell_type": "markdown",
   "id": "f43306de-4417-49fd-829a-81908398f06c",
   "metadata": {},
   "source": [
    "# Performance on Test Data"
   ]
  },
  {
   "cell_type": "code",
   "execution_count": 44,
   "id": "16fa5853-269f-4f34-983f-420175a746f2",
   "metadata": {},
   "outputs": [],
   "source": [
    "test_df=pd.read_csv('test_tweets.csv')"
   ]
  },
  {
   "cell_type": "code",
   "execution_count": 45,
   "id": "34b32e23-9e5c-47f1-a544-53d94b8b3be7",
   "metadata": {},
   "outputs": [
    {
     "data": {
      "text/plain": [
       "(202, 2)"
      ]
     },
     "execution_count": 45,
     "metadata": {},
     "output_type": "execute_result"
    }
   ],
   "source": [
    "test_df.shape"
   ]
  },
  {
   "cell_type": "code",
   "execution_count": 48,
   "id": "6e355523-8010-4764-a355-e8d1b719584c",
   "metadata": {},
   "outputs": [
    {
     "data": {
      "text/html": [
       "<div>\n",
       "<style scoped>\n",
       "    .dataframe tbody tr th:only-of-type {\n",
       "        vertical-align: middle;\n",
       "    }\n",
       "\n",
       "    .dataframe tbody tr th {\n",
       "        vertical-align: top;\n",
       "    }\n",
       "\n",
       "    .dataframe thead th {\n",
       "        text-align: right;\n",
       "    }\n",
       "</style>\n",
       "<table border=\"1\" class=\"dataframe\">\n",
       "  <thead>\n",
       "    <tr style=\"text-align: right;\">\n",
       "      <th></th>\n",
       "      <th>label</th>\n",
       "      <th>tweet</th>\n",
       "    </tr>\n",
       "  </thead>\n",
       "  <tbody>\n",
       "    <tr>\n",
       "      <th>0</th>\n",
       "      <td>positive</td>\n",
       "      <td>@VirginAmerica What @dhepburn said.</td>\n",
       "    </tr>\n",
       "    <tr>\n",
       "      <th>1</th>\n",
       "      <td>positive</td>\n",
       "      <td>@VirginAmerica plus you've added commercials t...</td>\n",
       "    </tr>\n",
       "    <tr>\n",
       "      <th>2</th>\n",
       "      <td>positive</td>\n",
       "      <td>@VirginAmerica I didn't today... Must mean I n...</td>\n",
       "    </tr>\n",
       "    <tr>\n",
       "      <th>3</th>\n",
       "      <td>negative</td>\n",
       "      <td>@VirginAmerica it's really aggressive to blast...</td>\n",
       "    </tr>\n",
       "    <tr>\n",
       "      <th>4</th>\n",
       "      <td>negative</td>\n",
       "      <td>@VirginAmerica and it's a really big bad thing...</td>\n",
       "    </tr>\n",
       "  </tbody>\n",
       "</table>\n",
       "</div>"
      ],
      "text/plain": [
       "      label                                              tweet\n",
       "0  positive                @VirginAmerica What @dhepburn said.\n",
       "1  positive  @VirginAmerica plus you've added commercials t...\n",
       "2  positive  @VirginAmerica I didn't today... Must mean I n...\n",
       "3  negative  @VirginAmerica it's really aggressive to blast...\n",
       "4  negative  @VirginAmerica and it's a really big bad thing..."
      ]
     },
     "execution_count": 48,
     "metadata": {},
     "output_type": "execute_result"
    }
   ],
   "source": [
    "test_df.head()"
   ]
  },
  {
   "cell_type": "code",
   "execution_count": 49,
   "id": "6dbff909-050d-48ad-acfa-3a090427950e",
   "metadata": {},
   "outputs": [],
   "source": [
    "#remove the stopwords from the test data \n",
    "test_df[\"tweet\"]=test_df[\"tweet\"].apply(lambda x: ' '.join([word for word in x.split() if word not in (STOPWORDS)]))"
   ]
  },
  {
   "cell_type": "code",
   "execution_count": 50,
   "id": "addd7d2b-ba9e-4238-b935-e6136d3eea8e",
   "metadata": {},
   "outputs": [],
   "source": [
    "# apply the helper function to clean the test data\n",
    "test_df['tweet'] = test_df['tweet'].apply(text_clean)"
   ]
  },
  {
   "cell_type": "code",
   "execution_count": 51,
   "id": "8407c762-4e66-47e8-b518-008382a4c605",
   "metadata": {},
   "outputs": [],
   "source": [
    "#convert the test tweet data into tfidf vector using pre-trained vectorisor\n",
    "test_vec = vectorizertfidf.transform(test_df['tweet'])"
   ]
  },
  {
   "cell_type": "code",
   "execution_count": 52,
   "id": "180fe5b5-de47-4452-bc97-39658badb63f",
   "metadata": {},
   "outputs": [],
   "source": [
    "#make the predictions on the test data using trained logistic regression model \n",
    "predictions=lr.predict(test_vec)"
   ]
  },
  {
   "cell_type": "code",
   "execution_count": 53,
   "id": "be285c30-f1c7-4073-9bab-217e0a5e02d6",
   "metadata": {},
   "outputs": [
    {
     "name": "stdout",
     "output_type": "stream",
     "text": [
      "[[ 65  12]\n",
      " [ 19 106]]\n",
      "              precision    recall  f1-score   support\n",
      "\n",
      "    negative       0.77      0.84      0.81        77\n",
      "    positive       0.90      0.85      0.87       125\n",
      "\n",
      "    accuracy                           0.85       202\n",
      "   macro avg       0.84      0.85      0.84       202\n",
      "weighted avg       0.85      0.85      0.85       202\n",
      "\n"
     ]
    }
   ],
   "source": [
    "#check for the performance of the model on test data \n",
    "print(confusion_matrix(predictions,test_df['label']))\n",
    "print(classification_report(predictions,test_df['label']))"
   ]
  },
  {
   "cell_type": "code",
   "execution_count": 54,
   "id": "8fc784eb-2a34-4247-9c6d-060b5c17fb40",
   "metadata": {},
   "outputs": [
    {
     "data": {
      "text/html": [
       "<div>\n",
       "<style scoped>\n",
       "    .dataframe tbody tr th:only-of-type {\n",
       "        vertical-align: middle;\n",
       "    }\n",
       "\n",
       "    .dataframe tbody tr th {\n",
       "        vertical-align: top;\n",
       "    }\n",
       "\n",
       "    .dataframe thead th {\n",
       "        text-align: right;\n",
       "    }\n",
       "</style>\n",
       "<table border=\"1\" class=\"dataframe\">\n",
       "  <thead>\n",
       "    <tr style=\"text-align: right;\">\n",
       "      <th></th>\n",
       "      <th>label</th>\n",
       "      <th>tweet</th>\n",
       "      <th>predictions</th>\n",
       "    </tr>\n",
       "  </thead>\n",
       "  <tbody>\n",
       "    <tr>\n",
       "      <th>0</th>\n",
       "      <td>positive</td>\n",
       "      <td>virginamerica what  dhepburn said</td>\n",
       "      <td>positive</td>\n",
       "    </tr>\n",
       "    <tr>\n",
       "      <th>1</th>\n",
       "      <td>positive</td>\n",
       "      <td>virginamerica plus added commercials experien...</td>\n",
       "      <td>positive</td>\n",
       "    </tr>\n",
       "    <tr>\n",
       "      <th>2</th>\n",
       "      <td>positive</td>\n",
       "      <td>virginamerica i today    must mean i need tak...</td>\n",
       "      <td>positive</td>\n",
       "    </tr>\n",
       "    <tr>\n",
       "      <th>3</th>\n",
       "      <td>negative</td>\n",
       "      <td>virginamerica really aggressive blast obnoxio...</td>\n",
       "      <td>negative</td>\n",
       "    </tr>\n",
       "    <tr>\n",
       "      <th>4</th>\n",
       "      <td>negative</td>\n",
       "      <td>virginamerica really big bad thing</td>\n",
       "      <td>positive</td>\n",
       "    </tr>\n",
       "  </tbody>\n",
       "</table>\n",
       "</div>"
      ],
      "text/plain": [
       "      label                                              tweet predictions\n",
       "0  positive                 virginamerica what  dhepburn said     positive\n",
       "1  positive   virginamerica plus added commercials experien...    positive\n",
       "2  positive   virginamerica i today    must mean i need tak...    positive\n",
       "3  negative   virginamerica really aggressive blast obnoxio...    negative\n",
       "4  negative                 virginamerica really big bad thing    positive"
      ]
     },
     "execution_count": 54,
     "metadata": {},
     "output_type": "execute_result"
    }
   ],
   "source": [
    "#add the model predictions to the test data \n",
    "test_df['predictions']=predictions\n",
    "#validate the final test dataframe \n",
    "test_df.head()"
   ]
  },
  {
   "cell_type": "code",
   "execution_count": null,
   "id": "9fa60b18-3a78-4ee3-b23c-c74e9550fcad",
   "metadata": {},
   "outputs": [],
   "source": []
  },
  {
   "cell_type": "code",
   "execution_count": 55,
   "id": "866d620c-30ed-48ec-9874-9b7b8225335c",
   "metadata": {},
   "outputs": [],
   "source": [
    "#export the final submission file consisting model prediction on test data \n",
    "test_df.to_csv('final_prediction.csv')"
   ]
  },
  {
   "cell_type": "code",
   "execution_count": null,
   "id": "26bc97bc-98e4-4b83-b0a8-1bc2e0eb2d88",
   "metadata": {},
   "outputs": [],
   "source": []
  }
 ],
 "metadata": {
  "kernelspec": {
   "display_name": "Python 3 (ipykernel)",
   "language": "python",
   "name": "python3"
  },
  "language_info": {
   "codemirror_mode": {
    "name": "ipython",
    "version": 3
   },
   "file_extension": ".py",
   "mimetype": "text/x-python",
   "name": "python",
   "nbconvert_exporter": "python",
   "pygments_lexer": "ipython3",
   "version": "3.11.7"
  }
 },
 "nbformat": 4,
 "nbformat_minor": 5
}
